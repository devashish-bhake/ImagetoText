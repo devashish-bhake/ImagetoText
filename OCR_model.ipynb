{
  "cells": [
    {
      "cell_type": "markdown",
      "metadata": {
        "id": "ljPRmIba3QCT"
      },
      "source": [
        "## Import\n",
        "\n",
        "Import necessary classes required for training the model"
      ]
    },
    {
      "cell_type": "code",
      "execution_count": 1,
      "metadata": {
        "colab": {
          "base_uri": "https://localhost:8080/",
          "height": 36
        },
        "id": "USQjBO1RjWAq",
        "outputId": "70b18b3c-0da4-4ec7-87ec-ccbae7f338dc"
      },
      "outputs": [],
      "source": [
        "import os\n",
        "import h5py\n",
        "import numpy as np\n",
        "from keras.preprocessing.image import ImageDataGenerator\n",
        "from keras import optimizers\n",
        "from keras.models import Sequential\n",
        "from keras.layers import Convolution2D,MaxPooling2D,Activation, Dropout, Flatten, Dense\n",
        "import multiprocessing"
      ]
    },
    {
      "cell_type": "markdown",
      "metadata": {
        "id": "1IR42wYu3bee"
      },
      "source": [
        "**Code**"
      ]
    },
    {
      "cell_type": "code",
      "execution_count": 2,
      "metadata": {
        "colab": {
          "base_uri": "https://localhost:8080/",
          "height": 2479
        },
        "id": "17TUlUjejOwq",
        "outputId": "ae37d7af-ef8f-4c3d-b8d5-a7912cfc939d"
      },
      "outputs": [
        {
          "name": "stdout",
          "output_type": "stream",
          "text": [
            "Found 78200 images belonging to 46 classes.\n",
            "Found 13800 images belonging to 46 classes.\n",
            "Model: \"sequential\"\n",
            "_________________________________________________________________\n",
            "Layer (type)                 Output Shape              Param #   \n",
            "=================================================================\n",
            "conv2d (Conv2D)              (None, 32, 32, 32)        320       \n",
            "_________________________________________________________________\n",
            "conv2d_1 (Conv2D)            (None, 32, 32, 32)        9248      \n",
            "_________________________________________________________________\n",
            "max_pooling2d (MaxPooling2D) (None, 16, 16, 32)        0         \n",
            "_________________________________________________________________\n",
            "conv2d_2 (Conv2D)            (None, 16, 16, 64)        18496     \n",
            "_________________________________________________________________\n",
            "conv2d_3 (Conv2D)            (None, 16, 16, 64)        36928     \n",
            "_________________________________________________________________\n",
            "max_pooling2d_1 (MaxPooling2 (None, 8, 8, 64)          0         \n",
            "_________________________________________________________________\n",
            "dropout (Dropout)            (None, 8, 8, 64)          0         \n",
            "_________________________________________________________________\n",
            "flatten (Flatten)            (None, 4096)              0         \n",
            "_________________________________________________________________\n",
            "dense (Dense)                (None, 128)               524416    \n",
            "_________________________________________________________________\n",
            "dense_1 (Dense)              (None, 64)                8256      \n",
            "_________________________________________________________________\n",
            "dense_2 (Dense)              (None, 46)                2990      \n",
            "=================================================================\n",
            "Total params: 600,654\n",
            "Trainable params: 600,654\n",
            "Non-trainable params: 0\n",
            "_________________________________________________________________\n",
            "None\n",
            "Epoch 1/20\n",
            "2444/2444 [==============================] - 534s 218ms/step - loss: 0.8709 - accuracy: 0.7428 - val_loss: 0.1633 - val_accuracy: 0.9483\n",
            "Epoch 2/20\n",
            "2444/2444 [==============================] - 174s 71ms/step - loss: 0.2732 - accuracy: 0.9164 - val_loss: 0.0817 - val_accuracy: 0.9752\n",
            "Epoch 3/20\n",
            "2444/2444 [==============================] - 190s 78ms/step - loss: 0.1883 - accuracy: 0.9416 - val_loss: 0.0771 - val_accuracy: 0.9768\n",
            "Epoch 4/20\n",
            "2444/2444 [==============================] - 202s 83ms/step - loss: 0.1525 - accuracy: 0.9533 - val_loss: 0.0643 - val_accuracy: 0.9804\n",
            "Epoch 5/20\n",
            "2444/2444 [==============================] - 163s 67ms/step - loss: 0.1287 - accuracy: 0.9609 - val_loss: 0.0603 - val_accuracy: 0.9831\n",
            "Epoch 6/20\n",
            "2444/2444 [==============================] - 189s 77ms/step - loss: 0.1133 - accuracy: 0.9657 - val_loss: 0.0543 - val_accuracy: 0.9850\n",
            "Epoch 7/20\n",
            "2444/2444 [==============================] - 137s 56ms/step - loss: 0.1009 - accuracy: 0.9691 - val_loss: 0.0574 - val_accuracy: 0.9839\n",
            "Epoch 8/20\n",
            "2444/2444 [==============================] - 160s 65ms/step - loss: 0.0931 - accuracy: 0.9706 - val_loss: 0.0495 - val_accuracy: 0.9860\n",
            "Epoch 9/20\n",
            "2444/2444 [==============================] - 179s 73ms/step - loss: 0.0858 - accuracy: 0.9740 - val_loss: 0.0414 - val_accuracy: 0.9880\n",
            "Epoch 10/20\n",
            "2444/2444 [==============================] - 283s 116ms/step - loss: 0.0810 - accuracy: 0.9749 - val_loss: 0.0355 - val_accuracy: 0.9889\n",
            "Epoch 11/20\n",
            "2444/2444 [==============================] - 288s 118ms/step - loss: 0.0764 - accuracy: 0.9769 - val_loss: 0.0392 - val_accuracy: 0.9883\n",
            "Epoch 12/20\n",
            "2444/2444 [==============================] - 288s 118ms/step - loss: 0.0733 - accuracy: 0.9778 - val_loss: 0.0426 - val_accuracy: 0.9891\n",
            "Epoch 13/20\n",
            "2444/2444 [==============================] - 289s 118ms/step - loss: 0.0717 - accuracy: 0.9783 - val_loss: 0.0391 - val_accuracy: 0.9891\n",
            "Epoch 14/20\n",
            "2444/2444 [==============================] - 287s 118ms/step - loss: 0.0655 - accuracy: 0.9800 - val_loss: 0.0353 - val_accuracy: 0.9893\n",
            "Epoch 15/20\n",
            "2444/2444 [==============================] - 238s 97ms/step - loss: 0.0670 - accuracy: 0.9791 - val_loss: 0.0404 - val_accuracy: 0.9888\n",
            "Epoch 16/20\n",
            "2444/2444 [==============================] - 189s 77ms/step - loss: 0.0623 - accuracy: 0.9811 - val_loss: 0.0340 - val_accuracy: 0.9914\n",
            "Epoch 17/20\n",
            "2444/2444 [==============================] - 222s 91ms/step - loss: 0.0605 - accuracy: 0.9820 - val_loss: 0.0389 - val_accuracy: 0.9899\n",
            "Epoch 18/20\n",
            "2444/2444 [==============================] - 207s 85ms/step - loss: 0.0587 - accuracy: 0.9818 - val_loss: 0.0350 - val_accuracy: 0.9903\n",
            "Epoch 19/20\n",
            "2444/2444 [==============================] - 289s 118ms/step - loss: 0.0582 - accuracy: 0.9818 - val_loss: 0.0378 - val_accuracy: 0.9905\n",
            "Epoch 20/20\n",
            "2444/2444 [==============================] - 287s 117ms/step - loss: 0.0572 - accuracy: 0.9832 - val_loss: 0.0452 - val_accuracy: 0.9882\n"
          ]
        },
        {
          "data": {
            "text/plain": [
              "<keras.callbacks.History at 0x1cd103818d0>"
            ]
          },
          "execution_count": 2,
          "metadata": {},
          "output_type": "execute_result"
        }
      ],
      "source": [
        "trainDataGen = ImageDataGenerator(\n",
        "\t\trotation_range = 5,\n",
        "\t\twidth_shift_range = 0.1,\n",
        "\t\theight_shift_range = 0.1,\n",
        "\t\trescale = 1.0/255,\n",
        "\t\tshear_range = 0.2,\n",
        "\t\tzoom_range = 0.2,\t\t\n",
        "\t\thorizontal_flip = False,\n",
        "\t\tfill_mode = 'nearest')\n",
        "\n",
        "test_datagen = ImageDataGenerator(rescale=1./255)\n",
        "trainGenerator = trainDataGen.flow_from_directory(\n",
        "\t\t\tr\"C:\\Users\\Devashish Bhake\\Desktop\\Computer Vision\\Devnagri Text Dataset\\DevanagariHandwrittenCharacterDataset\\DevanagariHandwrittenCharacterDataset\\Train\",\n",
        "\t\t\ttarget_size = (32,32),\n",
        "\t\t\tbatch_size = 32,\n",
        "\t\t\tcolor_mode = \"grayscale\",\n",
        "\t\t\tclass_mode = \"categorical\")\n",
        "prev = \"\"\n",
        "labels = [\"ka\",\"kha\",\"ga\",\"gha\",\"kna\",\"cha\",\"chha\",\"ja\",\"jha\",\"yna\",\"t`a\",\"t`ha\",\"d`a\",\"d`ha\",\"adna\",\"ta\",\"tha\",\"da\",\"dha\",\"na\",\"pa\",\"pha\",\"ba\",\"bha\",\"ma\",\"yaw\",\"ra\",\"la\",\"waw\",\"sha\",\"shat\",\"sa\",\"ha\",\"aksha\",\"tra\",\"gya\",\"0\",\"1\",\"2\",\"3\",\"4\",\"5\",\"6\",\"7\",\"8\",\"9\"]\n",
        "count = 0;\n",
        "\n",
        "\n",
        "validation_generator = test_datagen.flow_from_directory(\n",
        "\t\t\tr\"C:\\Users\\Devashish Bhake\\Desktop\\Computer Vision\\Devnagri Text Dataset\\DevanagariHandwrittenCharacterDataset\\DevanagariHandwrittenCharacterDataset\\Test\",\n",
        "\t\t\ttarget_size=(32,32),\n",
        "\t\t\tbatch_size=32,\n",
        "\t\t\tcolor_mode = \"grayscale\",\n",
        "\t\t\tclass_mode= 'categorical')\n",
        "\t\t\t\n",
        "model = Sequential()\n",
        "model.add(Convolution2D(filters = 32,\n",
        "\t\t\tkernel_size = (3,3),\n",
        "\t\t\tstrides = 1,\n",
        "      padding = 'same',\n",
        "\t\t\tactivation = \"relu\",\n",
        "\t\t\tinput_shape = (32,32,1)))\n",
        "\n",
        "model.add(Convolution2D(filters = 32,\n",
        "\t\t\tkernel_size = (3,3),\n",
        "\t\t\tstrides = 1,\n",
        "      padding = 'same',\n",
        "\t\t\tactivation = \"relu\",\n",
        "\t\t\tinput_shape = (32,32,1)))\n",
        "\n",
        "model.add(MaxPooling2D(pool_size=(2, 2),\n",
        "\t\t\tstrides=(2, 2),\n",
        "\t\t\tpadding=\"same\"))\n",
        "\t\t\n",
        "model.add(Convolution2D(filters = 64,\n",
        "\t\t\tkernel_size = (3,3),\n",
        "      padding = 'same',\n",
        "\t\t\tstrides = 1,\n",
        "\t\t\tactivation = \"relu\"))\n",
        "\n",
        "model.add(Convolution2D(filters = 64,\n",
        "\t\t\tkernel_size = (3,3),\n",
        "\t\t\tstrides= 1,\n",
        "\t\t\tpadding = 'same',\n",
        "      activation = \"relu\"))\n",
        "\n",
        "model.add(MaxPooling2D(pool_size=(2, 2),\n",
        "\t\t\tstrides=(2, 2),\n",
        "\t\t\tpadding=\"same\"))\t\t\t\n",
        "\t\t\t\n",
        "model.add(Dropout(0.2))\n",
        "\n",
        "model.add(Flatten())\n",
        "\n",
        "model.add(Dense(128,\n",
        "\t\tactivation = \"relu\",\n",
        "\t\tkernel_initializer = \"uniform\"))\t\t\t\n",
        "\n",
        "model.add(Dense(64,\n",
        "\t\tactivation = \"relu\",\n",
        "\t\tkernel_initializer = \"uniform\"))\t\t\t\n",
        "\n",
        "model.add(Dense(46,\n",
        "\t\tactivation = \"softmax\",\n",
        "\t\tkernel_initializer = \"uniform\"))\t\t\t\n",
        "\t\t\t\n",
        "model.compile(optimizer = \"adam\",\n",
        "\t\tloss = \"categorical_crossentropy\",\n",
        "\t\tmetrics = [\"accuracy\"])\n",
        "\t\t\n",
        "print(model.summary())\n",
        "\n",
        "model.fit(\n",
        "\t\ttrainGenerator,\n",
        "\t\tepochs = 20,\n",
        "\t\tsteps_per_epoch = 2444,\n",
        "\t\tvalidation_data = validation_generator,\n",
        "\t\tvalidation_steps = 432\n",
        "\t\t)\n",
        "\t\t\n",
        "\n"
      ]
    },
    {
      "cell_type": "markdown",
      "metadata": {
        "id": "2n1zVyhI3g5D"
      },
      "source": [
        "**Save**\n",
        "\n",
        "Save the trained model in a file"
      ]
    },
    {
      "cell_type": "code",
      "execution_count": 3,
      "metadata": {
        "id": "OHrEdTO2D0oK"
      },
      "outputs": [],
      "source": [
        "model.save(\"DevanagriModel.h5\")"
      ]
    },
    {
      "cell_type": "markdown",
      "metadata": {
        "id": "zKV2eHIn38Qz"
      },
      "source": [
        "**Using the model**\n",
        "\n",
        "Code to try to predict the character from given image"
      ]
    },
    {
      "cell_type": "code",
      "execution_count": 12,
      "metadata": {
        "colab": {
          "base_uri": "https://localhost:8080/",
          "height": 55
        },
        "id": "-G1ZEmlAt4JQ",
        "outputId": "5bae59e4-3a67-474f-b08d-31a5faeba97f"
      },
      "outputs": [
        {
          "name": "stdout",
          "output_type": "stream",
          "text": [
            "[INFO] loading network...\n",
            "The letter is  ksha\n"
          ]
        }
      ],
      "source": [
        "from keras.preprocessing.image import img_to_array\n",
        "from keras.models import load_model\n",
        "import numpy as np\n",
        "import argparse\n",
        "#import imutils\n",
        "import cv2\n",
        "\n",
        "'''\n",
        "ap = argparse.ArgumentParser()\n",
        "ap.add_argument(\"-m\", \"--model\", required=True,\n",
        "    help=\"path to trained model model\")\n",
        "ap.add_argument(\"-i\", \"--image\", required=True,\n",
        "    help=\"path to input image\")\n",
        "'''\n",
        "\n",
        "args = {\"model\": \"DevanagriModel.h5\",\"image\" : r\"C:\\Users\\Devashish Bhake\\Desktop\\Computer Vision\\Devnagri Text Dataset\\DevanagariHandwrittenCharacterDataset\\DevanagariHandwrittenCharacterDataset\\Test\\character_34_kshha\\37615.png\"}\n",
        "\n",
        "\n",
        "''' [\"ka\",\"kha\",\"ga\",\"gha\",\"kna\",\"cha\",\"chha\",\"ja\",\"jha\",\"yna\",\"t`a\",\"t`ha\",\"d`a\",\"d`ha\",\"adna\",\"ta\",\"tha\",\"da\",\"dha\",\"na\",\"pa\",\"pha\",\"ba\",\"bha\",\"ma\",\"yaw\",\"ra\",\"la\",\"waw\",\"sha\",\"shat\",\"sa\",\"ha\",\"aksha\",\"tra\",\"gya\",\"0\",\"1\",\"2\",\"3\",\"4\",\"5\",\"6\",\"7\",\"8\",\"9\"]\n",
        "\n",
        "\n",
        "labels =['yna', 't`aa', 't`haa', 'd`aa', 'd`haa', 'a`dna', 'ta', 'tha', 'da', 'dha', 'ka', 'na', 'pa', 'pha', 'ba', 'bha', 'ma', 'yaw', 'ra', 'la', 'waw', 'kha', 'sha', 'shat', 'sa', 'ha', 'aksha', 'tra', 'gya', 'ga', 'gha', 'kna', 'cha', 'chha', 'ja', 'jha', '0', '1', '2', '3', '4', '5', '6', '7', '8', '9']\n",
        "'''\n",
        "labels = [u'\\u091E',u'\\u091F',u'\\u0920',u'\\u0921',u'\\u0922',u'\\u0923',u'\\u0924',u'\\u0925',u'\\u0926',u'\\u0927',u'\\u0915',u'\\u0928',u'\\u092A',u'\\u092B',u'\\u092c',u'\\u092d',u'\\u092e',u'\\u092f',u'\\u0930',u'\\u0932',u'\\u0935',u'\\u0916',u'\\u0936',u'\\u0937',u'\\u0938',u'\\u0939','ksha','tra','gya',u'\\u0917',u'\\u0918',u'\\u0919',u'\\u091a',u'\\u091b',u'\\u091c',u'\\u091d',u'\\u0966',u'\\u0967',u'\\u0968',u'\\u0969',u'\\u096a',u'\\u096b',u'\\u096c',u'\\u096d',u'\\u096e',u'\\u096f']\n",
        "image = cv2.imread(args[\"image\"])\n",
        "orig = image.copy()\n",
        " \n",
        "# pre-process the image for classification\n",
        "image = cv2.resize(image, (32,32))\n",
        "image = image.astype(\"float\") / 255.0\n",
        "image = img_to_array(image)\n",
        "image = cv2.cvtColor(image, cv2.COLOR_BGR2GRAY)\n",
        "#print image.shape\n",
        "image = np.expand_dims(image, axis=0)\n",
        "#print image.shape\n",
        "image = np.expand_dims(image, axis=3)\n",
        "#print image.shape\n",
        "# load the trained convolutional neural network\n",
        "print(\"[INFO] loading network...\")\n",
        "model = load_model(args[\"model\"])\n",
        " \n",
        "# classify the input image\n",
        "lists = model.predict(image)\n",
        "\n",
        "print(\"The letter is \",labels[np.argmax(lists)])\n"
      ]
    },
    {
      "cell_type": "code",
      "execution_count": null,
      "metadata": {},
      "outputs": [],
      "source": []
    }
  ],
  "metadata": {
    "accelerator": "GPU",
    "colab": {
      "collapsed_sections": [],
      "name": "Character recognition.ipynb",
      "provenance": []
    },
    "kernelspec": {
      "display_name": "Python 3.6.8 ('spacy')",
      "language": "python",
      "name": "python3"
    },
    "language_info": {
      "codemirror_mode": {
        "name": "ipython",
        "version": 3
      },
      "file_extension": ".py",
      "mimetype": "text/x-python",
      "name": "python",
      "nbconvert_exporter": "python",
      "pygments_lexer": "ipython3",
      "version": "3.6.8"
    },
    "vscode": {
      "interpreter": {
        "hash": "8545cdf38336d41e9a02f7091db03de3912c14c56daba9b6170f398517d87a53"
      }
    }
  },
  "nbformat": 4,
  "nbformat_minor": 0
}
